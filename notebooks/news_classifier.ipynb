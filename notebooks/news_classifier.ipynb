{
 "cells": [
  {
   "cell_type": "markdown",
   "id": "5f8e4ebb",
   "metadata": {},
   "source": [
    "## Importing libraries"
   ]
  },
  {
   "cell_type": "code",
   "execution_count": 1,
   "id": "a8ec98b9",
   "metadata": {},
   "outputs": [],
   "source": [
    "import cohere\n",
    "import pandas as pd\n",
    "from sklearn.model_selection import train_test_split"
   ]
  },
  {
   "cell_type": "markdown",
   "id": "0aea369e",
   "metadata": {},
   "source": [
    "## Data reading"
   ]
  },
  {
   "cell_type": "code",
   "execution_count": 2,
   "id": "c16985d9",
   "metadata": {},
   "outputs": [],
   "source": [
    "df = pd.read_excel('../data/Example_data.xlsx') \n",
    "df['Analyst_Average_Score'] = df['Analyst_Average_Score'].apply(lambda x: 'low' if x<1 else 'high')"
   ]
  },
  {
   "cell_type": "markdown",
   "id": "58f4d3fc",
   "metadata": {},
   "source": [
    "## Splitting"
   ]
  },
  {
   "cell_type": "code",
   "execution_count": 3,
   "id": "f9110e84",
   "metadata": {},
   "outputs": [],
   "source": [
    "X = df[['Title','Description','Body']]\n",
    "y = df['Analyst_Average_Score']\n",
    "train, test, labels_train, labels_test = train_test_split(\n",
    "             X,y, test_size=0.25, random_state=0)"
   ]
  },
  {
   "cell_type": "markdown",
   "id": "3f904d18",
   "metadata": {},
   "source": [
    "## Merging the Cols"
   ]
  },
  {
   "cell_type": "code",
   "execution_count": 4,
   "id": "29650661",
   "metadata": {},
   "outputs": [],
   "source": [
    "train['merged'] = 'Title: ' + train['Title'] +'\\n'+ 'Description: '+train['Description']+'\\n'+'Analyst_Average_Score: '+labels_train +'\\n---\\n'"
   ]
  },
  {
   "cell_type": "code",
   "execution_count": 5,
   "id": "293886be",
   "metadata": {
    "scrolled": false
   },
   "outputs": [
    {
     "data": {
      "text/plain": [
       "9    Title: Global and Regional Beta-Carotene Marke...\n",
       "1    Title: Stumbled across an interesting case, a ...\n",
       "6    Title: 7th Anniversary of SCOAN Collapse in Ni...\n",
       "7    Title: The construction sector is expected to ...\n",
       "3    Title: AI drives data analytics surge, study f...\n",
       "0    Title: Boris Johnson using a taxpayer-funded j...\n",
       "5    Title: Male arrested for the murder of an elde...\n",
       "Name: merged, dtype: object"
      ]
     },
     "execution_count": 5,
     "metadata": {},
     "output_type": "execute_result"
    }
   ],
   "source": [
    "train['merged']"
   ]
  },
  {
   "cell_type": "code",
   "execution_count": 6,
   "id": "83117be3",
   "metadata": {},
   "outputs": [
    {
     "data": {
      "text/html": [
       "<div>\n",
       "<style scoped>\n",
       "    .dataframe tbody tr th:only-of-type {\n",
       "        vertical-align: middle;\n",
       "    }\n",
       "\n",
       "    .dataframe tbody tr th {\n",
       "        vertical-align: top;\n",
       "    }\n",
       "\n",
       "    .dataframe thead th {\n",
       "        text-align: right;\n",
       "    }\n",
       "</style>\n",
       "<table border=\"1\" class=\"dataframe\">\n",
       "  <thead>\n",
       "    <tr style=\"text-align: right;\">\n",
       "      <th></th>\n",
       "      <th>Title</th>\n",
       "      <th>Description</th>\n",
       "      <th>Body</th>\n",
       "    </tr>\n",
       "  </thead>\n",
       "  <tbody>\n",
       "    <tr>\n",
       "      <th>2</th>\n",
       "      <td>Marché Résines dans les peintures et revêtemen...</td>\n",
       "      <td>…COVID-19…COVID…COVID…COVID-19 et Post COVID…C...</td>\n",
       "      <td>Le rapport d’étude de marché Résines dans les ...</td>\n",
       "    </tr>\n",
       "    <tr>\n",
       "      <th>8</th>\n",
       "      <td>News24.com | Court dismisses attempt by former...</td>\n",
       "      <td>…Lawsuit Against Public Participation) designe...</td>\n",
       "      <td>- Former Eskom CEO Matshela Moses Koko sought ...</td>\n",
       "    </tr>\n",
       "    <tr>\n",
       "      <th>4</th>\n",
       "      <td>Triacetin Vertrieb Markt 2021: Globale Unterne...</td>\n",
       "      <td>…Abschnitten und Endanwendungen / Organisation...</td>\n",
       "      <td>Global Triacetin Vertrieb-Markt 2021 von Herst...</td>\n",
       "    </tr>\n",
       "  </tbody>\n",
       "</table>\n",
       "</div>"
      ],
      "text/plain": [
       "                                               Title  \\\n",
       "2  Marché Résines dans les peintures et revêtemen...   \n",
       "8  News24.com | Court dismisses attempt by former...   \n",
       "4  Triacetin Vertrieb Markt 2021: Globale Unterne...   \n",
       "\n",
       "                                         Description  \\\n",
       "2  …COVID-19…COVID…COVID…COVID-19 et Post COVID…C...   \n",
       "8  …Lawsuit Against Public Participation) designe...   \n",
       "4  …Abschnitten und Endanwendungen / Organisation...   \n",
       "\n",
       "                                                Body  \n",
       "2  Le rapport d’étude de marché Résines dans les ...  \n",
       "8  - Former Eskom CEO Matshela Moses Koko sought ...  \n",
       "4  Global Triacetin Vertrieb-Markt 2021 von Herst...  "
      ]
     },
     "execution_count": 6,
     "metadata": {},
     "output_type": "execute_result"
    }
   ],
   "source": [
    "test"
   ]
  },
  {
   "cell_type": "code",
   "execution_count": 7,
   "id": "011fd69d",
   "metadata": {},
   "outputs": [],
   "source": [
    "prompt = \"\"\n",
    "for i in train['merged']:\n",
    "    prompt+=i"
   ]
  },
  {
   "cell_type": "markdown",
   "id": "4158ab51",
   "metadata": {},
   "source": [
    "## Prompt Preparation"
   ]
  },
  {
   "cell_type": "code",
   "execution_count": 8,
   "id": "dac1f624",
   "metadata": {},
   "outputs": [
    {
     "data": {
      "text/plain": [
       "\"Title: Global and Regional Beta-Carotene Market Research 2020 Report | Growth Forecast 2025 key players! – DSM – BASF – Allied Biotech – Chr Hansen – LYCORED\\nDescription: …key players! – DSM – BASF – Allied Biotech – Chr…historical market performance, impact of COVID-19, post-covid scenario of market, forecast for…Supplement – Cosmetic Additives – Drug & Health Products – Others…– – DSM – BASF – Allied Biotech – Chr…\\nAnalyst_Average_Score: low\\n---\\nTitle: Stumbled across an interesting case, a woman facing eviction from the home that she inherited from her brother in 2007. Turns out her brother was in business with a notorious international criminal Paul Le Roux, who is currently serving 25 years in a New York prison.\\nDescription: Stumbled across an interesting case, a woman facing eviction from the home that she inherited from her brother in 2007. Turns out her brother was in business with a notorious international criminal Paul Le Roux, who is currently serving 25 years in a New York prison.\\nAnalyst_Average_Score: low\\n---\\nTitle: 7th Anniversary of SCOAN Collapse in Nigeria-SABC News\\nDescription: …in Lagos, Nigeria, 84 South Africans were killed. The building that houses the Christian pilgrims…Prophet, TB Joshua,](//www.sabcnews.com/sabcnews/nigerian-televangelist-tb-joshuas-dies-at-age-57/) I’m dead now. Limpopo man Patrick Mveji lost his only…\\nAnalyst_Average_Score: low\\n---\\nTitle: The construction sector is expected to be boosted by riots and looting repairs\\nDescription: …additional spending on buildings, repairs and security in KwaZulu-Natal and Houten could boost construction activity in the third…starting block.” He hopes that further relaxation of blockade regulations and tax jackpots against the backdrop of record…\\nAnalyst_Average_Score: high\\n---\\nTitle: AI drives data analytics surge, study finds\\nDescription: …hate raiders' linked to automated harassment campaigns [engadget](d.php?did=engadget.com) Texas law could force social media to host misinformation and hate speech [ars](d.php?did=arstechnica.com)…breach…shot on…stolen data…Killed…M1…Toxic…Attack…\\nAnalyst_Average_Score: low\\n---\\nTitle: Boris Johnson using a taxpayer-funded jet for an election campaign fits a long history of taking things he didn't pay for\\nDescription: …often trigger a protest vote that can upset…that ministers who breach the Ministerial Code…plane up the M1 in order to…serious questions about abuse of taxpayers' money which is a clear breach of the code.…should not permit abuse of taxpayers' money…\\nAnalyst_Average_Score: low\\n---\\nTitle: Male arrested for the murder of an elderly female in Cofimvaba – SAPS Crime Report: 2021-09-09 13:22:58\\nDescription: …Crime Stamp Out…N1 and R101 roads appear in court – SAPS Crime Report:…Crime Report:…robbery – SAPS Crime Report: 2021-09-09 14:05:02] - 9 September 2021 - [Firearm recovered, three suspects in court – SAPS Crime Report:…robbery – SAPS Crime Report:…\\nAnalyst_Average_Score: high\\n---\\nTitle: Global and Regional Beta-Carotene Market Research 2020 Report | Growth Forecast 2025 key players! – DSM – BASF – Allied Biotech – Chr Hansen – LYCORED\\nDescription: …key players! – DSM – BASF – Allied Biotech – Chr…historical market performance, impact of COVID-19, post-covid scenario of market, forecast for…Supplement – Cosmetic Additives – Drug & Health Products – Others…– – DSM – BASF – Allied Biotech – Chr…\\nAnalyst_Average_Score: low\\n---\\nTitle: Stumbled across an interesting case, a woman facing eviction from the home that she inherited from her brother in 2007. Turns out her brother was in business with a notorious international criminal Paul Le Roux, who is currently serving 25 years in a New York prison.\\nDescription: Stumbled across an interesting case, a woman facing eviction from the home that she inherited from her brother in 2007. Turns out her brother was in business with a notorious international criminal Paul Le Roux, who is currently serving 25 years in a New York prison.\\nAnalyst_Average_Score: low\\n---\\nTitle: 7th Anniversary of SCOAN Collapse in Nigeria-SABC News\\nDescription: …in Lagos, Nigeria, 84 South Africans were killed. The building that houses the Christian pilgrims…Prophet, TB Joshua,](//www.sabcnews.com/sabcnews/nigerian-televangelist-tb-joshuas-dies-at-age-57/) I’m dead now. Limpopo man Patrick Mveji lost his only…\\nAnalyst_Average_Score: low\\n---\\nTitle: The construction sector is expected to be boosted by riots and looting repairs\\nDescription: …additional spending on buildings, repairs and security in KwaZulu-Natal and Houten could boost construction activity in the third…starting block.” He hopes that further relaxation of blockade regulations and tax jackpots against the backdrop of record…\\nAnalyst_Average_Score: high\\n---\\nTitle: AI drives data analytics surge, study finds\\nDescription: …hate raiders' linked to automated harassment campaigns [engadget](d.php?did=engadget.com) Texas law could force social media to host misinformation and hate speech [ars](d.php?did=arstechnica.com)…breach…shot on…stolen data…Killed…M1…Toxic…Attack…\\nAnalyst_Average_Score: low\\n---\\nTitle: Boris Johnson using a taxpayer-funded jet for an election campaign fits a long history of taking things he didn't pay for\\nDescription: …often trigger a protest vote that can upset…that ministers who breach the Ministerial Code…plane up the M1 in order to…serious questions about abuse of taxpayers' money which is a clear breach of the code.…should not permit abuse of taxpayers' money…\\nAnalyst_Average_Score: low\\n---\\nTitle: Male arrested for the murder of an elderly female in Cofimvaba – SAPS Crime Report: 2021-09-09 13:22:58\\nDescription: …Crime Stamp Out…N1 and R101 roads appear in court – SAPS Crime Report:…Crime Report:…robbery – SAPS Crime Report: 2021-09-09 14:05:02] - 9 September 2021 - [Firearm recovered, three suspects in court – SAPS Crime Report:…robbery – SAPS Crime Report:…\\nAnalyst_Average_Score: high\\n---\\nTitle: News24.com | Court dismisses attempt by former Eskom CEO to 'punish' woman for tweet\\nDescription: …Lawsuit Against Public Participation) designed to intimidate her. Johannesburg High Court Acting Judge Adele de Wet agreed. She…'Sphithiphithi Evaluator' in court for allegedly inciting public violence In October 2020, City Press posted an article on…\\nAnalyst_Average_Score: \""
      ]
     },
     "execution_count": 8,
     "metadata": {},
     "output_type": "execute_result"
    }
   ],
   "source": [
    "test_ = 'Title: ' + test['Title'][8] +'\\n'+ 'Description: '+test['Description'][8]+'\\n' +'Analyst_Average_Score: '\n",
    "prompt += prompt + test_\n",
    "prompt"
   ]
  },
  {
   "cell_type": "code",
   "execution_count": 9,
   "id": "9261441f",
   "metadata": {},
   "outputs": [],
   "source": [
    "import sys, os\n",
    "sys.path.append(os.path.abspath(os.path.join('..')))\n",
    "from scripts.generate import Generate"
   ]
  },
  {
   "cell_type": "markdown",
   "id": "7573b6db",
   "metadata": {},
   "source": [
    "## Call Cohere Api for Classification"
   ]
  },
  {
   "cell_type": "code",
   "execution_count": 10,
   "id": "e3096583",
   "metadata": {},
   "outputs": [
    {
     "name": "stderr",
     "output_type": "stream",
     "text": [
      "\u001b[93mWarning: Your text contains a trailing whitespace, which has been trimmed to ensure high quality generations., Your text contains a trailing whitespace, which has been trimmed to ensure high quality generations.\n",
      "\u001b[0m\n"
     ]
    }
   ],
   "source": [
    "gen = Generate()\n",
    "gen.generate(prompt)"
   ]
  },
  {
   "cell_type": "code",
   "execution_count": 11,
   "id": "d03e6d28",
   "metadata": {},
   "outputs": [
    {
     "name": "stdout",
     "output_type": "stream",
     "text": [
      "Prediction:  high\n",
      "---\n"
     ]
    }
   ],
   "source": [
    "print('Prediction: {}'.format(gen.get_pred()))"
   ]
  },
  {
   "cell_type": "code",
   "execution_count": null,
   "id": "90e93862",
   "metadata": {},
   "outputs": [],
   "source": [
    "Title: Title of news 1\n",
    "Description: Description of news 1\n",
    "Analyst_Average_Score: Score of news 1\n",
    "---\n",
    "Title: Title of news 2\n",
    "Description: Description of news 2\n",
    "Analyst_Average_Score: Score of news 2\n",
    "---\n",
    "Title: Title of news 3\n",
    "Description: Description of news 3\n",
    "Analyst_Average_Score: Score of news 3\n",
    "---\n",
    "Title: Title of news to be evaluated\n",
    "Description: Description of news to be evaluated\n",
    "Analyst_Average_Score: "
   ]
  }
 ],
 "metadata": {
  "kernelspec": {
   "display_name": "Python 3 (ipykernel)",
   "language": "python",
   "name": "python3"
  },
  "language_info": {
   "codemirror_mode": {
    "name": "ipython",
    "version": 3
   },
   "file_extension": ".py",
   "mimetype": "text/x-python",
   "name": "python",
   "nbconvert_exporter": "python",
   "pygments_lexer": "ipython3",
   "version": "3.10.4"
  }
 },
 "nbformat": 4,
 "nbformat_minor": 5
}
